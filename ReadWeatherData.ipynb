{
 "cells": [
  {
   "cell_type": "markdown",
   "metadata": {},
   "source": [
    "# Read weather data"
   ]
  },
  {
   "cell_type": "code",
   "execution_count": 158,
   "metadata": {},
   "outputs": [],
   "source": [
    "#imoort modules\n",
    "import pandas as pd\n",
    "import matplotlib\n",
    "matplotlib.rc('font', family='NanumGothic')  # for Japanese\n",
    "#magic command for plot\n",
    "%matplotlib inline\n",
    "\n",
    "import os"
   ]
  },
  {
   "cell_type": "code",
   "execution_count": null,
   "metadata": {},
   "outputs": [
    {
     "name": "stdout",
     "output_type": "stream",
     "text": [
      "['2013.csv', '2014.csv', '2015.csv', '2016.csv', '2017.csv']\n"
     ]
    }
   ],
   "source": [
    "# Get file list\n",
    "data_dir = '/home/kuchida/Downloads/weather/'  #Enter path to data dir.\n",
    "dataFileList = os.listdir(data_dir)\n",
    "dataFileList.sort()\n",
    "print(dataFileList)\n",
    "\n",
    "# Read data\n",
    "dfList = []\n",
    "for filename in dataFileList:\n",
    "    abs_path = str(data_dir + filename)\n",
    "    df = pd.read_csv(abs_path,\n",
    "                     delimiter=',',\n",
    "                     index_col=None,\n",
    "                     header=None,\n",
    "                     skiprows=6,\n",
    "                     encoding='shift-jis'\n",
    "                    )\n",
    "    #df.head()\n",
    "    #df.columns = [u'Tokyo', u'`Oosaka', u'Nagoya']\n",
    "    #df.index = pd.to_datetime(df.index)\n",
    "    df_tokyo = df.iloc[:, [0,1,4,7,9,14,18,21]] \n",
    "    df_oosaka = df.iloc[:, [0,1+23,4+23,7+23,9+23,14+23,18+23,21+23]] \n",
    "    df_nagoya = df.iloc[:, [0,1+46,4+46,7+46,9+46,14+46,18+46,21+46]] \n",
    "    labelList =  ['Date', 'Highest temperature [deg.C.]', 'Lowest temperature [deg.C.]', 'Average temperature [deg.C.]',\n",
    "                  'Precipitation [mm]','Hours of daylight [hours]', 'Average humidity [%]','Average pressure [hPa]']\n",
    "    df_tokyo.columns = labelList\n",
    "    df_oosaka.columns = labelList\n",
    "    df_nagoya.columns = labelList\n",
    "    #df_tokyo['Location'] = ['Tokyo']\n",
    "    dfList.append(df_tokyo)\n",
    "    \n",
    "dfList[0].head()\n",
    "\n",
    "# Create plot\n",
    "for i in range(len(dataFileList)):\n",
    "    dfList[i].plot(x=0, y=['Lowest temperature [deg.C.]','Highest temperature [deg.C.]'],alpha=0.8, figsize=(16,4))\n"
   ]
  },
  {
   "cell_type": "markdown",
   "metadata": {},
   "source": []
  }
 ],
 "metadata": {
  "kernelspec": {
   "display_name": "Python 3",
   "language": "python",
   "name": "python3"
  },
  "language_info": {
   "codemirror_mode": {
    "name": "ipython",
    "version": 3
   },
   "file_extension": ".py",
   "mimetype": "text/x-python",
   "name": "python",
   "nbconvert_exporter": "python",
   "pygments_lexer": "ipython3",
   "version": "3.6.1"
  }
 },
 "nbformat": 4,
 "nbformat_minor": 2
}
